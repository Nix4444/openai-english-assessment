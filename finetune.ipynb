{
 "cells": [
  {
   "cell_type": "code",
   "execution_count": 5,
   "metadata": {},
   "outputs": [],
   "source": [
    "from openai import OpenAI\n",
    "import os,json"
   ]
  },
  {
   "cell_type": "code",
   "execution_count": 15,
   "metadata": {},
   "outputs": [],
   "source": [
    "with open(\"config.json\", \"r\") as f:\n",
    "    data = json.load(f)\n",
    "client = OpenAI(api_key=data[\"KEY\"])"
   ]
  },
  {
   "cell_type": "code",
   "execution_count": 7,
   "metadata": {},
   "outputs": [
    {
     "name": "stdout",
     "output_type": "stream",
     "text": [
      "FileObject(id='file-snDfCtEkqYI4RtQdjmb2J6X5', bytes=19027, created_at=1708584164, filename='data.jsonl', object='file', purpose='fine-tune', status='processed', status_details=None)\n"
     ]
    }
   ],
   "source": [
    "res = client.files.create(\n",
    "    file=open(\"data.jsonl\", \"rb\"),\n",
    "    purpose=\"fine-tune\"\n",
    "    )\n",
    "print(res)"
   ]
  },
  {
   "cell_type": "code",
   "execution_count": 9,
   "metadata": {},
   "outputs": [
    {
     "data": {
      "text/plain": [
       "FineTuningJob(id='ftjob-og98Pu7ypilwXcdiMZ5XFBI9', created_at=1708584202, error=Error(code=None, message=None, param=None, error=None), fine_tuned_model=None, finished_at=None, hyperparameters=Hyperparameters(n_epochs='auto', batch_size='auto', learning_rate_multiplier='auto'), model='gpt-3.5-turbo-0613', object='fine_tuning.job', organization_id='org-6SyUB9hzfZBa63qiSgujMtm7', result_files=[], status='validating_files', trained_tokens=None, training_file='file-snDfCtEkqYI4RtQdjmb2J6X5', validation_file=None)"
      ]
     },
     "execution_count": 9,
     "metadata": {},
     "output_type": "execute_result"
    }
   ],
   "source": [
    "\n",
    "res = client.fine_tuning.jobs.create(\n",
    "    training_file=data[\"FILE_ID\"], \n",
    "    model=\"gpt-3.5-turbo\",\n",
    "    )\n",
    "res"
   ]
  },
  {
   "cell_type": "code",
   "execution_count": 10,
   "metadata": {},
   "outputs": [
    {
     "data": {
      "text/plain": [
       "SyncCursorPage[FineTuningJob](data=[FineTuningJob(id='ftjob-og98Pu7ypilwXcdiMZ5XFBI9', created_at=1708584202, error=Error(code=None, message=None, param=None, error=None), fine_tuned_model=None, finished_at=None, hyperparameters=Hyperparameters(n_epochs='auto', batch_size='auto', learning_rate_multiplier='auto'), model='gpt-3.5-turbo-0613', object='fine_tuning.job', organization_id='org-6SyUB9hzfZBa63qiSgujMtm7', result_files=[], status='validating_files', trained_tokens=None, training_file='file-snDfCtEkqYI4RtQdjmb2J6X5', validation_file=None), FineTuningJob(id='ftjob-JzUURERF5bUjMZUYqC8l9PIZ', created_at=1708576363, error=Error(code=None, message=None, param=None, error=None), fine_tuned_model='ft:gpt-3.5-turbo-0613:personal::8uv9YyuL', finished_at=1708576756, hyperparameters=Hyperparameters(n_epochs=5, batch_size=1, learning_rate_multiplier=2), model='gpt-3.5-turbo-0613', object='fine_tuning.job', organization_id='org-6SyUB9hzfZBa63qiSgujMtm7', result_files=['file-aULba2IPvpbknD3BU5eulh91'], status='succeeded', trained_tokens=18020, training_file='file-CsjlNlcbX6QFdKKNuILr9R7y', validation_file=None), FineTuningJob(id='ftjob-Ukv9A0Gnvq1v5CwjhgAZoghw', created_at=1708490675, error=Error(code=None, message=None, param=None, error=None), fine_tuned_model='ft:gpt-3.5-turbo-0613:personal::8uYrU00P', finished_at=1708491067, hyperparameters=Hyperparameters(n_epochs=10, batch_size=1, learning_rate_multiplier=2), model='gpt-3.5-turbo-0613', object='fine_tuning.job', organization_id='org-6SyUB9hzfZBa63qiSgujMtm7', result_files=['file-e2O3jWDORO1fE5b1iFbAHcfS'], status='succeeded', trained_tokens=4580, training_file='file-3Tt3mX8WNMvvB3w5ZfMbtAXz', validation_file=None), FineTuningJob(id='ftjob-bbXamH08l6NCFwlgxLrS4fgP', created_at=1708489724, error=Error(code='invalid_n_examples', message='Training file has 3 example(s), but must have at least 10 examples', param='training_file'), fine_tuned_model=None, finished_at=None, hyperparameters=Hyperparameters(n_epochs='auto', batch_size='auto', learning_rate_multiplier='auto'), model='gpt-3.5-turbo-0613', object='fine_tuning.job', organization_id='org-6SyUB9hzfZBa63qiSgujMtm7', result_files=[], status='failed', trained_tokens=None, training_file='file-Bir2XBNRI7Ko0Z8OnZr4cIuN', validation_file=None), FineTuningJob(id='ftjob-u7QnstpMVtek5vl7Z17O8V3A', created_at=1708489705, error=Error(code='invalid_n_examples', message='Training file has 3 example(s), but must have at least 10 examples', param='training_file'), fine_tuned_model=None, finished_at=None, hyperparameters=Hyperparameters(n_epochs='auto', batch_size='auto', learning_rate_multiplier='auto'), model='gpt-3.5-turbo-0613', object='fine_tuning.job', organization_id='org-6SyUB9hzfZBa63qiSgujMtm7', result_files=[], status='failed', trained_tokens=None, training_file='file-Bir2XBNRI7Ko0Z8OnZr4cIuN', validation_file=None)], object='list', has_more=False)"
      ]
     },
     "execution_count": 10,
     "metadata": {},
     "output_type": "execute_result"
    }
   ],
   "source": [
    "client.fine_tuning.jobs.list(limit=10)"
   ]
  },
  {
   "cell_type": "code",
   "execution_count": 12,
   "metadata": {},
   "outputs": [
    {
     "data": {
      "text/plain": [
       "FineTuningJob(id='ftjob-og98Pu7ypilwXcdiMZ5XFBI9', created_at=1708584202, error=Error(code=None, message=None, param=None, error=None), fine_tuned_model='ft:gpt-3.5-turbo-0613:personal::8uxC1Eaa', finished_at=1708584596, hyperparameters=Hyperparameters(n_epochs=5, batch_size=1, learning_rate_multiplier=2), model='gpt-3.5-turbo-0613', object='fine_tuning.job', organization_id='org-6SyUB9hzfZBa63qiSgujMtm7', result_files=['file-zhMHpv5XkTiQAG7m5c0fuUQO'], status='succeeded', trained_tokens=18495, training_file='file-snDfCtEkqYI4RtQdjmb2J6X5', validation_file=None)"
      ]
     },
     "execution_count": 12,
     "metadata": {},
     "output_type": "execute_result"
    }
   ],
   "source": [
    "client.fine_tuning.jobs.retrieve(\"ftjob-og98Pu7ypilwXcdiMZ5XFBI9\")"
   ]
  },
  {
   "cell_type": "code",
   "execution_count": 16,
   "metadata": {},
   "outputs": [
    {
     "name": "stdout",
     "output_type": "stream",
     "text": [
      "ChatCompletionMessage(content='{\"Grammar\":5,\"Fluency\":5,\"Context\":10,\"Explanation\":5,\"Feedback\":\"Your content is clear, but there are several grammatical errors and the explanation lacks detail.\",\"Grammatical Error\":\"\\'My favourite is goa,\\' should be \\'My favourite place is Goa.\\' \\'I als love climate which is the moderate not hot not cold.\\' lacks proper structure and should be \\'I also love the moderate climate, which is neither hot nor cold.\\'\",\"Suggestions\":\"Focus on sentence structure and use correct verb tenses. Provide more elaboration on why Goa is your favorite place.\",\"Grade\":6}', role='assistant', function_call=None, tool_calls=None)\n"
     ]
    }
   ],
   "source": [
    "completion = client.chat.completions.create(\n",
    "    model = data[\"MODEL_ID\"],\n",
    "    messages=[\n",
    "    {\"role\": \"system\", \"content\": \"WordWave is an english assessment bot that acts like an english teacher, analyze the question and answer and grade the user out of 10 on grammar, fluency, context,explanation. Also provide feedback, suggestions, and grammatical errors if any. return the whole thing in a JSON.\"},\n",
    "    {\"role\": \"user\", \"content\": \"question: what is your favourite place to visit during vacation? answer: my favourite is goa, I like really beaches and sea area. I als love climate which is the moderate not hot not cold.\"}\n",
    "  ]\n",
    ")\n",
    "print(completion.choices[0].message)"
   ]
  }
 ],
 "metadata": {
  "kernelspec": {
   "display_name": "Python 3",
   "language": "python",
   "name": "python3"
  },
  "language_info": {
   "codemirror_mode": {
    "name": "ipython",
    "version": 3
   },
   "file_extension": ".py",
   "mimetype": "text/x-python",
   "name": "python",
   "nbconvert_exporter": "python",
   "pygments_lexer": "ipython3",
   "version": "3.10.11"
  },
  "orig_nbformat": 4
 },
 "nbformat": 4,
 "nbformat_minor": 2
}
