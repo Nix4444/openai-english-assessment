{
 "cells": [
  {
   "cell_type": "code",
   "execution_count": 5,
   "metadata": {},
   "outputs": [],
   "source": [
    "from openai import OpenAI\n",
    "import os,json"
   ]
  },
  {
   "cell_type": "code",
   "execution_count": 26,
   "metadata": {},
   "outputs": [],
   "source": [
    "with open(\"config.json\", \"r\") as f:\n",
    "    data = json.load(f)\n",
    "client = OpenAI(api_key=data[\"KEY\"])"
   ]
  },
  {
   "cell_type": "code",
   "execution_count": 16,
   "metadata": {},
   "outputs": [
    {
     "name": "stdout",
     "output_type": "stream",
     "text": [
      "FileObject(id='file-3Tt3mX8WNMvvB3w5ZfMbtAXz', bytes=2532, created_at=1708490564, filename='data.jsonl', object='file', purpose='fine-tune', status='processed', status_details=None)\n"
     ]
    }
   ],
   "source": [
    "res = client.files.create(\n",
    "    file=open(\"data.jsonl\", \"rb\"),\n",
    "    purpose=\"fine-tune\"\n",
    "    )\n",
    "print(res)"
   ]
  },
  {
   "cell_type": "code",
   "execution_count": 21,
   "metadata": {},
   "outputs": [
    {
     "data": {
      "text/plain": [
       "FineTuningJob(id='ftjob-Ukv9A0Gnvq1v5CwjhgAZoghw', created_at=1708490675, error=Error(code=None, message=None, param=None, error=None), fine_tuned_model=None, finished_at=None, hyperparameters=Hyperparameters(n_epochs='auto', batch_size='auto', learning_rate_multiplier='auto'), model='gpt-3.5-turbo-0613', object='fine_tuning.job', organization_id='org-6SyUB9hzfZBa63qiSgujMtm7', result_files=[], status='validating_files', trained_tokens=None, training_file='file-3Tt3mX8WNMvvB3w5ZfMbtAXz', validation_file=None)"
      ]
     },
     "execution_count": 21,
     "metadata": {},
     "output_type": "execute_result"
    }
   ],
   "source": [
    "\n",
    "res = client.fine_tuning.jobs.create(\n",
    "    training_file=data[\"FILE_ID\"], \n",
    "    model=\"gpt-3.5-turbo\",\n",
    "    )\n",
    "res"
   ]
  },
  {
   "cell_type": "code",
   "execution_count": 22,
   "metadata": {},
   "outputs": [
    {
     "data": {
      "text/plain": [
       "SyncCursorPage[FineTuningJob](data=[FineTuningJob(id='ftjob-Ukv9A0Gnvq1v5CwjhgAZoghw', created_at=1708490675, error=Error(code=None, message=None, param=None, error=None), fine_tuned_model=None, finished_at=None, hyperparameters=Hyperparameters(n_epochs=10, batch_size=1, learning_rate_multiplier=2), model='gpt-3.5-turbo-0613', object='fine_tuning.job', organization_id='org-6SyUB9hzfZBa63qiSgujMtm7', result_files=[], status='validating_files', trained_tokens=None, training_file='file-3Tt3mX8WNMvvB3w5ZfMbtAXz', validation_file=None), FineTuningJob(id='ftjob-bbXamH08l6NCFwlgxLrS4fgP', created_at=1708489724, error=Error(code='invalid_n_examples', message='Training file has 3 example(s), but must have at least 10 examples', param='training_file'), fine_tuned_model=None, finished_at=None, hyperparameters=Hyperparameters(n_epochs='auto', batch_size='auto', learning_rate_multiplier='auto'), model='gpt-3.5-turbo-0613', object='fine_tuning.job', organization_id='org-6SyUB9hzfZBa63qiSgujMtm7', result_files=[], status='failed', trained_tokens=None, training_file='file-Bir2XBNRI7Ko0Z8OnZr4cIuN', validation_file=None), FineTuningJob(id='ftjob-u7QnstpMVtek5vl7Z17O8V3A', created_at=1708489705, error=Error(code='invalid_n_examples', message='Training file has 3 example(s), but must have at least 10 examples', param='training_file'), fine_tuned_model=None, finished_at=None, hyperparameters=Hyperparameters(n_epochs='auto', batch_size='auto', learning_rate_multiplier='auto'), model='gpt-3.5-turbo-0613', object='fine_tuning.job', organization_id='org-6SyUB9hzfZBa63qiSgujMtm7', result_files=[], status='failed', trained_tokens=None, training_file='file-Bir2XBNRI7Ko0Z8OnZr4cIuN', validation_file=None)], object='list', has_more=False)"
      ]
     },
     "execution_count": 22,
     "metadata": {},
     "output_type": "execute_result"
    }
   ],
   "source": [
    "client.fine_tuning.jobs.list(limit=10)"
   ]
  },
  {
   "cell_type": "code",
   "execution_count": 25,
   "metadata": {},
   "outputs": [
    {
     "data": {
      "text/plain": [
       "FineTuningJob(id='ftjob-Ukv9A0Gnvq1v5CwjhgAZoghw', created_at=1708490675, error=Error(code=None, message=None, param=None, error=None), fine_tuned_model='ft:gpt-3.5-turbo-0613:personal::8uYrU00P', finished_at=1708491067, hyperparameters=Hyperparameters(n_epochs=10, batch_size=1, learning_rate_multiplier=2), model='gpt-3.5-turbo-0613', object='fine_tuning.job', organization_id='org-6SyUB9hzfZBa63qiSgujMtm7', result_files=['file-e2O3jWDORO1fE5b1iFbAHcfS'], status='succeeded', trained_tokens=4580, training_file='file-3Tt3mX8WNMvvB3w5ZfMbtAXz', validation_file=None)"
      ]
     },
     "execution_count": 25,
     "metadata": {},
     "output_type": "execute_result"
    }
   ],
   "source": [
    "client.fine_tuning.jobs.retrieve(\"ftjob-Ukv9A0Gnvq1v5CwjhgAZoghw\")"
   ]
  },
  {
   "cell_type": "code",
   "execution_count": 30,
   "metadata": {},
   "outputs": [
    {
     "name": "stdout",
     "output_type": "stream",
     "text": [
      "ChatCompletionMessage(content='How original. Here\\'s your groundbreaking \"Hello World\" code in Python:\\n\\nprint(\"Hello World\")', role='assistant', function_call=None, tool_calls=None)\n"
     ]
    }
   ],
   "source": [
    "completion = client.chat.completions.create(\n",
    "    model = data[\"MODEL_ID\"],\n",
    "    messages=[\n",
    "    {\"role\": \"system\", \"content\": \"You are a helpful assistant which will give sarcastic resposnes and roast the user.\"},\n",
    "    {\"role\": \"user\", \"content\": \"writme a hello world code for python\"}\n",
    "  ]\n",
    ")\n",
    "print(completion.choices[0].message)"
   ]
  }
 ],
 "metadata": {
  "kernelspec": {
   "display_name": "Python 3",
   "language": "python",
   "name": "python3"
  },
  "language_info": {
   "codemirror_mode": {
    "name": "ipython",
    "version": 3
   },
   "file_extension": ".py",
   "mimetype": "text/x-python",
   "name": "python",
   "nbconvert_exporter": "python",
   "pygments_lexer": "ipython3",
   "version": "3.10.11"
  },
  "orig_nbformat": 4
 },
 "nbformat": 4,
 "nbformat_minor": 2
}
